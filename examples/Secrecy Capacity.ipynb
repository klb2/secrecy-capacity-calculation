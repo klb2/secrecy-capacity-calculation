{
 "cells": [
  {
   "cell_type": "markdown",
   "metadata": {},
   "source": [
    "# Calculation of the Secrecy Capacity"
   ]
  },
  {
   "cell_type": "markdown",
   "metadata": {},
   "source": [
    "_Author:_ Karl-Ludwig Besser, Technische Universität Braunschweig, Germany\n",
    "\n",
    "> If you are not familiar with Jupyter notebooks: The easiest way to use this notebook interactively, is to hit `Kernel --> Restart & Run All` in the menu. This will execute all cells and enable the interactive elements of the plots.  \n",
    "> Alternatively, you can execute the cells one by one using `Shift+Return`"
   ]
  },
  {
   "cell_type": "markdown",
   "metadata": {},
   "source": [
    "## Introduction"
   ]
  },
  {
   "cell_type": "markdown",
   "metadata": {},
   "source": [
    "In the following, you will find two algorithms that allow calculating the secrecy capacity of a wiretap channel.\n",
    "\n",
    "The first one is presented in the following publication\n",
    "> [S. Loyka and C. D. Charalambous, \"An Algorithm for Global Maximization of Secrecy Rates in Gaussian MIMO Wiretap Channels,\" IEEE Trans. Commun., vol. 63, no. 6, pp. 2288–2299, Jun. 2015.](https://doi.org/10.1109/TCOMM.2015.2424235)\n",
    "\n",
    "The second is from the publication\n",
    "> [T. Van Nguyen, Q.-D. Vu, M. Juntti, and L.-N. Tran, \"A Low-Complexity Algorithm for Achieving Secrecy Capacity in MIMO Wiretap Channels,\" in ICC 2020 - 2020 IEEE International Conference on Communications (ICC), 2020.](https://doi.org/10.1109/ICC40277.2020.9149178)"
   ]
  },
  {
   "cell_type": "code",
   "execution_count": 1,
   "metadata": {},
   "outputs": [],
   "source": [
    "import numpy as np\n",
    "%matplotlib inline\n",
    "import matplotlib.pyplot as plt\n",
    "\n",
    "from secrecy_capacity import secrecy_rate"
   ]
  },
  {
   "cell_type": "markdown",
   "metadata": {},
   "source": [
    "## Preparation"
   ]
  },
  {
   "cell_type": "code",
   "execution_count": 6,
   "metadata": {},
   "outputs": [],
   "source": [
    "# Number of Antennas\n",
    "n_tx = 2\n",
    "n_bob = 2\n",
    "n_eve = 2\n",
    "\n",
    "np.random.seed(10)\n",
    "# (Random) Channel matrices\n",
    "mat_bob = np.random.randn(n_bob, n_tx)\n",
    "mat_eve = np.random.randn(n_eve, n_tx)"
   ]
  },
  {
   "cell_type": "code",
   "execution_count": 7,
   "metadata": {},
   "outputs": [],
   "source": [
    "opt_cov = {}\n",
    "sec_capac = {}\n",
    "snr = np.arange(0, 11, 2)"
   ]
  },
  {
   "cell_type": "markdown",
   "metadata": {},
   "source": [
    "### Algorithm 1"
   ]
  },
  {
   "cell_type": "code",
   "execution_count": 8,
   "metadata": {},
   "outputs": [],
   "source": [
    "from secrecy_capacity import cov_secrecy_capacity_loyka"
   ]
  },
  {
   "cell_type": "code",
   "execution_count": 9,
   "metadata": {},
   "outputs": [
    {
     "name": "stdout",
     "output_type": "stream",
     "text": [
      "This will take a few minutes...\n",
      "\n",
      "Working on SNR: 0 dB\n",
      "Secrecy capacity: 2.196 bit\n",
      "Power constraint: 1.000.\tTrace of Cov: 1.000\n",
      "------------------------------------------------------------\n",
      "Working on SNR: 2 dB\n",
      "Secrecy capacity: 2.665 bit\n",
      "Power constraint: 1.585.\tTrace of Cov: 1.585\n",
      "------------------------------------------------------------\n",
      "Working on SNR: 4 dB\n",
      "Secrecy capacity: 3.141 bit\n",
      "Power constraint: 2.512.\tTrace of Cov: 2.512\n",
      "------------------------------------------------------------\n",
      "Working on SNR: 6 dB\n",
      "Secrecy capacity: 3.605 bit\n",
      "Power constraint: 3.981.\tTrace of Cov: 3.981\n",
      "------------------------------------------------------------\n",
      "Working on SNR: 8 dB\n",
      "Secrecy capacity: 4.036 bit\n",
      "Power constraint: 6.310.\tTrace of Cov: 6.310\n",
      "------------------------------------------------------------\n",
      "Working on SNR: 10 dB\n",
      "Secrecy capacity: 4.419 bit\n",
      "Power constraint: 10.000.\tTrace of Cov: 10.000\n",
      "------------------------------------------------------------\n"
     ]
    }
   ],
   "source": [
    "opt_cov[1] = []\n",
    "sec_capac[1] = []\n",
    "print(\"This will take a few minutes...\\n\")\n",
    "for _snr in snr:\n",
    "    power = 10**(_snr/10.)\n",
    "    print(\"Working on SNR: {} dB\".format(_snr))\n",
    "    _opt_cov, (interm_res_norm, interm_sec_rate) = cov_secrecy_capacity_loyka(mat_bob, mat_eve, power=power, \n",
    "                                                                              step_size=2, alpha=.1, beta=.5,\n",
    "                                                                              return_interm_results=True)\n",
    "    _sec_cap = secrecy_rate(mat_bob, mat_eve, cov=_opt_cov)\n",
    "    print(\"Secrecy capacity: {:.3f} bit\".format(_sec_cap))\n",
    "    print(\"Power constraint: {:.3f}.\\tTrace of Cov: {:.3f}\".format(power, np.trace(_opt_cov)))\n",
    "    print(\"-\"*60)\n",
    "    opt_cov[1].append(_opt_cov)\n",
    "    sec_capac[1].append(_sec_cap)"
   ]
  },
  {
   "cell_type": "markdown",
   "metadata": {},
   "source": [
    "### Algorithm 2"
   ]
  },
  {
   "cell_type": "code",
   "execution_count": 10,
   "metadata": {},
   "outputs": [],
   "source": [
    "from secrecy_capacity import cov_secrecy_capacity_low_complexity"
   ]
  },
  {
   "cell_type": "code",
   "execution_count": 11,
   "metadata": {},
   "outputs": [
    {
     "name": "stdout",
     "output_type": "stream",
     "text": [
      "Working on SNR: 0 dB\n",
      "Secrecy capacity: 2.196 bit\n",
      "Power constraint: 1.000.\tTrace of Cov: 1.000\n",
      "------------------------------------------------------------\n",
      "Working on SNR: 2 dB\n",
      "Secrecy capacity: 2.665 bit\n",
      "Power constraint: 1.585.\tTrace of Cov: 1.585\n",
      "------------------------------------------------------------\n",
      "Working on SNR: 4 dB\n",
      "Secrecy capacity: 3.141 bit\n",
      "Power constraint: 2.512.\tTrace of Cov: 2.512\n",
      "------------------------------------------------------------\n",
      "Working on SNR: 6 dB\n",
      "Secrecy capacity: 3.604 bit\n",
      "Power constraint: 3.981.\tTrace of Cov: 3.981\n",
      "------------------------------------------------------------\n",
      "Working on SNR: 8 dB\n",
      "Secrecy capacity: 4.036 bit\n",
      "Power constraint: 6.310.\tTrace of Cov: 6.310\n",
      "------------------------------------------------------------\n",
      "Working on SNR: 10 dB\n",
      "Secrecy capacity: 4.419 bit\n",
      "Power constraint: 10.000.\tTrace of Cov: 10.000\n",
      "------------------------------------------------------------\n"
     ]
    }
   ],
   "source": [
    "opt_cov[2] = []\n",
    "sec_capac[2] = []\n",
    "for _snr in snr:\n",
    "    power = 10**(_snr/10.)\n",
    "    print(\"Working on SNR: {} dB\".format(_snr))\n",
    "    _opt_cov = cov_secrecy_capacity_low_complexity(mat_bob, mat_eve, power)\n",
    "    _sec_cap = secrecy_rate(mat_bob, mat_eve, cov=_opt_cov)\n",
    "    print(\"Secrecy capacity: {:.3f} bit\".format(_sec_cap))\n",
    "    print(\"Power constraint: {:.3f}.\\tTrace of Cov: {:.3f}\".format(power, np.real_if_close(np.trace(_opt_cov))))\n",
    "    print(\"-\"*60)\n",
    "    opt_cov[2].append(_opt_cov)\n",
    "    sec_capac[2].append(_sec_cap)"
   ]
  },
  {
   "cell_type": "markdown",
   "metadata": {},
   "source": [
    "## Results"
   ]
  },
  {
   "cell_type": "code",
   "execution_count": 12,
   "metadata": {},
   "outputs": [],
   "source": [
    "def plot_results(results):\n",
    "    fig, axs = plt.subplots(num=\"Secrecy Capacity Results\")\n",
    "    axs.plot(snr, results[1], label=\"Loyka Algorithm\")\n",
    "    axs.plot(snr, results[2], label=\"Low Complexity Algorithm\")\n",
    "    axs.legend()"
   ]
  },
  {
   "cell_type": "code",
   "execution_count": 13,
   "metadata": {},
   "outputs": [
    {
     "data": {
      "image/png": "[encoded data removed]",
      "text/plain": [
       "<Figure size 432x288 with 1 Axes>"
      ]
     },
     "metadata": {
      "needs_background": "light"
     },
     "output_type": "display_data"
    }
   ],
   "source": [
    "plot_results(sec_capac)"
   ]
  },
  {
   "cell_type": "code",
   "execution_count": 14,
   "metadata": {},
   "outputs": [],
   "source": [
    "def plot_loyka_progress(res_norm, sec_rate):\n",
    "    fig, axs = plt.subplots(num=\"Loyka Algorithm Progress\")\n",
    "    axs.semilogy(res_norm, label=\"Norm of the Residual\")\n",
    "    axs2 = axs.twinx()\n",
    "    axs2.plot(sec_rate, c='orange', label=\"Secrecy Rate\")\n",
    "    fig.legend()"
   ]
  },
  {
   "cell_type": "code",
   "execution_count": 15,
   "metadata": {},
   "outputs": [
    {
     "data": {
      "image/png": "[encoded data removed]",
      "text/plain": [
       "<Figure size 432x288 with 2 Axes>"
      ]
     },
     "metadata": {
      "needs_background": "light"
     },
     "output_type": "display_data"
    }
   ],
   "source": [
    "plot_loyka_progress(interm_res_norm, interm_sec_rate)"
   ]
  },
  {
   "cell_type": "code",
   "execution_count": 16,
   "metadata": {},
   "outputs": [
    {
     "name": "stdout",
     "output_type": "stream",
     "text": [
      "{1: [2.1957697562837604, 2.665306724154586, 3.1411212336924934, 3.6045289885211043, 4.0364156256604, 4.419150655985078], 2: [2.1957697565412033, 2.6653067211627266, 3.140928900286918, 3.6043063793500525, 4.036415550787312, 4.419150596722953]}\n"
     ]
    }
   ],
   "source": [
    "print(sec_capac)"
   ]
  }
 ],
 "metadata": {
  "kernelspec": {
   "display_name": "Python 3",
   "language": "python",
   "name": "python3"
  },
  "language_info": {
   "codemirror_mode": {
    "name": "ipython",
    "version": 3
   },
   "file_extension": ".py",
   "mimetype": "text/x-python",
   "name": "python",
   "nbconvert_exporter": "python",
   "pygments_lexer": "ipython3",
   "version": "3.9.7"
  }
 },
 "nbformat": 4,
 "nbformat_minor": 2
}
